{
 "cells": [
  {
   "cell_type": "code",
   "execution_count": 3,
   "metadata": {},
   "outputs": [
    {
     "data": {
      "text/plain": [
       "array([[[248, 251, 242],\n",
       "        [248, 251, 242],\n",
       "        [249, 252, 243],\n",
       "        ...,\n",
       "        [242, 250, 240],\n",
       "        [240, 248, 238],\n",
       "        [239, 247, 237]],\n",
       "\n",
       "       [[248, 251, 242],\n",
       "        [248, 251, 242],\n",
       "        [249, 252, 243],\n",
       "        ...,\n",
       "        [244, 252, 242],\n",
       "        [243, 251, 241],\n",
       "        [242, 250, 240]],\n",
       "\n",
       "       [[247, 250, 241],\n",
       "        [248, 251, 242],\n",
       "        [249, 252, 243],\n",
       "        ...,\n",
       "        [249, 254, 245],\n",
       "        [248, 253, 244],\n",
       "        [247, 252, 243]],\n",
       "\n",
       "       ...,\n",
       "\n",
       "       [[ 93,  95,  83],\n",
       "        [ 92,  95,  80],\n",
       "        [ 90,  93,  78],\n",
       "        ...,\n",
       "        [213, 234, 232],\n",
       "        [213, 234, 232],\n",
       "        [213, 234, 232]],\n",
       "\n",
       "       [[ 93,  95,  83],\n",
       "        [ 92,  95,  80],\n",
       "        [ 91,  94,  79],\n",
       "        ...,\n",
       "        [213, 234, 232],\n",
       "        [213, 234, 232],\n",
       "        [213, 234, 232]],\n",
       "\n",
       "       [[ 89,  91,  79],\n",
       "        [ 89,  92,  77],\n",
       "        [ 89,  92,  77],\n",
       "        ...,\n",
       "        [211, 232, 230],\n",
       "        [210, 231, 229],\n",
       "        [210, 231, 229]]], dtype=uint8)"
      ]
     },
     "execution_count": 3,
     "metadata": {},
     "output_type": "execute_result"
    }
   ],
   "source": [
    "import cv2\n",
    "from matplotlib.pyplot import figure\n",
    "import matplotlib.pyplot as plt\n",
    "\n",
    "# Load the image\n",
    "image = cv2.imread(\"images/001.jpg\")\n",
    "\n",
    "image\n",
    "\n"
   ]
  }
 ],
 "metadata": {
  "kernelspec": {
   "display_name": "Python 3",
   "language": "python",
   "name": "python3"
  },
  "language_info": {
   "codemirror_mode": {
    "name": "ipython",
    "version": 3
   },
   "file_extension": ".py",
   "mimetype": "text/x-python",
   "name": "python",
   "nbconvert_exporter": "python",
   "pygments_lexer": "ipython3",
   "version": "3.11.3"
  },
  "orig_nbformat": 4,
  "vscode": {
   "interpreter": {
    "hash": "a878954424d9b76d7b900ecc7f51cd84490d8f0a25cc155ddb1ef325dda2b223"
   }
  }
 },
 "nbformat": 4,
 "nbformat_minor": 2
}
