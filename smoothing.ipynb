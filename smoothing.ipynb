{
 "cells": [
  {
   "cell_type": "code",
   "execution_count": null,
   "metadata": {},
   "outputs": [],
   "source": [
    "import cv2\n",
    "import numpy as np\n",
    "from matplotlib.pyplot import figure\n",
    "from skimage import io\n",
    "\n",
    "image_Original = cv2.imread('./images/download.jpg')\n",
    "\n",
    "\n",
    "image_MedianBlur = cv2.medianBlur(image_Original, 9)\n",
    "image_GaussianBlur = cv2.GaussianBlur(image_Original, (9, 9), 10)\n",
    "image_BilateralBlur = cv2.bilateralFilter(image_Original, 9, 100, 75)\n",
    "\n",
    "\n",
    "figure(0)\n",
    "io.imshow(image_Original)\n",
    "figure(1)\n",
    "io.imshow(image_MedianBlur)\n",
    "figure(2)\n",
    "io.imshow(image_GaussianBlur)\n",
    "figure(3)\n",
    "io.imshow(image_BilateralBlur)\n"
   ]
  },
  {
   "attachments": {},
   "cell_type": "markdown",
   "metadata": {},
   "source": [
    "## Changing the shape of an image"
   ]
  },
  {
   "cell_type": "code",
   "execution_count": null,
   "metadata": {},
   "outputs": [],
   "source": [
    "# define the size for erosion\n",
    "s1 = 1\n",
    "s2 = 10\n",
    "s3 = 10\n",
    "\n",
    "# define the erosion type\n",
    "t1 = cv2.MORPH_RECT\n",
    "t2 = cv2.MORPH_ELLIPSE\n",
    "t3 = cv2.MORPH_CROSS\n",
    "\n",
    "# define and save the erosion template\n",
    "tmp1 = cv2.getStructuringElement(t1, (2*s1 + 1, 2*s1+1), (s1, s1))\n",
    "tmp2 = cv2.getStructuringElement(t2, (2*s2 + 1, 2*s2+1), (s2, s2))\n",
    "tmp3 = cv2.getStructuringElement(t3, (2*s3 + 1, 2*s3+1), (s3, s3))\n",
    "\n",
    "final1 = cv2.erode(image_Original ,tmp1)\n",
    "final2 = cv2.erode(image_Original ,tmp2)\n",
    "final3 = cv2.erode(image_Original ,tmp3)\n",
    "\n",
    "figure(0)\n",
    "io.imshow(final1)\n",
    "figure(1)\n",
    "io.imshow(final2)\n",
    "figure(2)\n",
    "io.imshow(final3)"
   ]
  },
  {
   "attachments": {},
   "cell_type": "markdown",
   "metadata": {},
   "source": [
    "## Dilation code"
   ]
  },
  {
   "cell_type": "code",
   "execution_count": null,
   "metadata": {},
   "outputs": [],
   "source": [
    "import cv2\n",
    "from matplotlib.pyplot import figure\n",
    "from skimage import io\n",
    "\n",
    "image = cv2.imread('./images/download.jpg')\n",
    "\n",
    "d1 = 0\n",
    "d2 = 10\n",
    "d3 = 20\n",
    "\n",
    "t1 = cv2.MORPH_RECT\n",
    "t2 = cv2.MORPH_CROSS\n",
    "t3 = cv2.MORPH_ELLIPSE\n",
    "\n",
    "tmp1 = cv2.getStructuringElement(t1, (2*d1 + 1, 2*d1+1), (d1, d1))\n",
    "tmp2 = cv2.getStructuringElement(t2, (2*d2 + 1, 2*d2+1), (d2, d2))\n",
    "tmp3 = cv2.getStructuringElement(t3, (2*d3 + 1, 2*d3+1), (d3, d3))\n",
    "\n",
    "final1 = cv2.dilate(image, tmp1)\n",
    "final2 = cv2.dilate(image, tmp2)\n",
    "final3 = cv2.dilate(image, tmp3 )\n",
    "\n",
    "figure(0)\n",
    "io.imshow(final1)\n",
    "figure(1)\n",
    "io.imshow(final2)\n",
    "figure(2)\n",
    "io.imshow(final3)   \n",
    "\n"
   ]
  },
  {
   "cell_type": "code",
   "execution_count": null,
   "metadata": {},
   "outputs": [],
   "source": []
  }
 ],
 "metadata": {
  "kernelspec": {
   "display_name": "Python 3",
   "language": "python",
   "name": "python3"
  },
  "language_info": {
   "codemirror_mode": {
    "name": "ipython",
    "version": 3
   },
   "file_extension": ".py",
   "mimetype": "text/x-python",
   "name": "python",
   "nbconvert_exporter": "python",
   "pygments_lexer": "ipython3",
   "version": "3.10.9"
  },
  "orig_nbformat": 4,
  "vscode": {
   "interpreter": {
    "hash": "a878954424d9b76d7b900ecc7f51cd84490d8f0a25cc155ddb1ef325dda2b223"
   }
  }
 },
 "nbformat": 4,
 "nbformat_minor": 2
}
