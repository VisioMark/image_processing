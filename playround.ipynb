{
 "cells": [
  {
   "cell_type": "code",
   "execution_count": null,
   "metadata": {},
   "outputs": [],
   "source": [
    "from skimage import io\n",
    "import matplotlib.pyplot as plt\n",
    "io.use_plugin('matplotlib', 'imread')\n",
    "\n",
    "img = io.imread('./images/download.jpg')\n",
    "print(img.shape)\n",
    "plt.imshow(img)\n",
    "plt.show()\n",
    "%matplotlib inline\n",
    "\n"
   ]
  },
  {
   "cell_type": "code",
   "execution_count": null,
   "metadata": {},
   "outputs": [],
   "source": [
    "import cv2\n",
    "\n",
    "img_cv2 = cv2.imread('./images/download.jpg')\n",
    "gray_image = cv2.imread('./images/download.jpg', cv2.IMREAD_GRAYSCALE) \n",
    "gray_0 = cv2.imread('./images/download.jpg', 0)\n",
    "img_opencv = cv2.cvtColor(img_cv2, cv2.COLOR_BGR2RGB)\n"
   ]
  },
  {
   "cell_type": "code",
   "execution_count": null,
   "metadata": {},
   "outputs": [],
   "source": [
    "import pandas as pd\n",
    "df = pd.DataFrame(img.flatten())\n",
    "df.head()"
   ]
  },
  {
   "cell_type": "code",
   "execution_count": null,
   "metadata": {},
   "outputs": [],
   "source": [
    "filepath = 'nice.xlsx'\n",
    "df.to_excel(filepath,index=False)"
   ]
  },
  {
   "cell_type": "code",
   "execution_count": null,
   "metadata": {},
   "outputs": [],
   "source": [
    "# RGB to HSV\n",
    "\n",
    "from skimage import color\n",
    "from skimage import data\n",
    "from pylab import *\n",
    "\n",
    "# convert to HSV\n",
    "img_hsv = color.rgb2hsv(img)\n",
    "img_hsv"
   ]
  },
  {
   "cell_type": "code",
   "execution_count": null,
   "metadata": {},
   "outputs": [],
   "source": [
    "plt.imshow(img_hsv)"
   ]
  },
  {
   "cell_type": "code",
   "execution_count": null,
   "metadata": {},
   "outputs": [],
   "source": [
    "img_rgb = color.hsv2rgb(img_hsv)\n",
    "plt.imshow(img_rgb)"
   ]
  },
  {
   "cell_type": "code",
   "execution_count": null,
   "metadata": {},
   "outputs": [],
   "source": [
    "from skimage import draw\n",
    "import numpy as np\n",
    "\n",
    "x, y = draw.line(20, 0, 100, 100)\n",
    "img_cpy = np.copy(img)\n",
    "img_cpy[x, y] = 0\n",
    "io.imshow(img_cpy)"
   ]
  },
  {
   "attachments": {},
   "cell_type": "markdown",
   "metadata": {},
   "source": [
    "# Doing Gamma Correction\n",
    "Gamma corrction ensures that images are displayed correctly on the screen.\n"
   ]
  },
  {
   "cell_type": "code",
   "execution_count": null,
   "metadata": {},
   "outputs": [],
   "source": [
    "from matplotlib.pyplot import figure\n",
    "from skimage import exposure\n",
    "\n",
    "gamma_corrected1 = exposure.adjust_gamma(img, .5)\n",
    "gamma_corrected2 = exposure.adjust_gamma(img, 9)\n",
    "\n",
    "figure(0)\n",
    "io.imshow(gamma_corrected1)\n",
    "figure(1)\n",
    "io.imshow(gamma_corrected2)"
   ]
  },
  {
   "attachments": {},
   "cell_type": "markdown",
   "metadata": {},
   "source": [
    "## Determining Structural Similarity\n",
    "It is used to find the index that indicate how much two images are similar."
   ]
  },
  {
   "cell_type": "code",
   "execution_count": null,
   "metadata": {},
   "outputs": [],
   "source": [
    "from skimage import metrics as ssim\n",
    "\n",
    "ssim_original = ssim.structural_similarity(img, img, data_range=img.max() - img.min(), multichannel=True)\n",
    "ssim_modified = ssim.structural_similarity(img, img_hsv, data_range=img.max() - img_hsv.min(), multichannel=True)\n",
    "\n",
    "print(ssim_original, ssim_modified)\n"
   ]
  },
  {
   "attachments": {},
   "cell_type": "markdown",
   "metadata": {},
   "source": [
    "# OpenCV"
   ]
  },
  {
   "cell_type": "code",
   "execution_count": null,
   "metadata": {},
   "outputs": [],
   "source": [
    "import cv2\n",
    "from skimage import io\n",
    "\n",
    "img1 = cv2.imread('./images/download.jpg')\n",
    "img2 = cv2.imread('./images/download2.jpg')\n",
    "\n",
    "alpha = 0.6\n",
    "beta = 1.0 - alpha\n",
    "\n",
    "if img1.shape != img2.shape:\n",
    "    print(\"Images are not of the same size and channels\")\n",
    "else:\n",
    "    final_image = cv2.addWeighted(img1, alpha, img2, beta, 0.0)\n",
    "\n",
    "    cv2.imshow(\"final image\", final_image)\n",
    "    cv2.waitKey(0)\n",
    "    cv2.destroyAllWindows()"
   ]
  },
  {
   "attachments": {},
   "cell_type": "markdown",
   "metadata": {},
   "source": [
    "## Changing contrast and brightness"
   ]
  },
  {
   "cell_type": "code",
   "execution_count": null,
   "metadata": {},
   "outputs": [],
   "source": [
    "import cv2 \n",
    "import numpy as np\n",
    "from matplotlib.pyplot import figure\n",
    "from skimage import io\n",
    "\n",
    "img =cv2.imread('./images/download.jpg')\n",
    "\n",
    "new_image = np.zeros(img.shape, img.dtype)\n",
    "\n",
    "contrast = 3.0\n",
    "bright = 2\n",
    "\n",
    "for y in range(img.shape[0]):\n",
    "    for x in range(img.shape[1]):\n",
    "        for c in range(img.shape[2]):\n",
    "            new_image[y, x, c] = np.clip(contrast*img[y,x,c] + bright, 0, 255)\n",
    "\n",
    "figure(0)\n",
    "io.imshow(img)\n",
    "figure(1)\n",
    "io.imshow(new_image)"
   ]
  },
  {
   "cell_type": "code",
   "execution_count": null,
   "metadata": {},
   "outputs": [],
   "source": [
    "font = cv2.FONT_HERSHEY_SIMPLEX\n",
    "\n",
    "cv2.putText(img, 'God is great', (10, 150), font, 2, (0, 255, 0), 2, cv2.LINE_AA)\n",
    "io.imshow(img)"
   ]
  },
  {
   "cell_type": "code",
   "execution_count": null,
   "metadata": {},
   "outputs": [],
   "source": []
  }
 ],
 "metadata": {
  "kernelspec": {
   "display_name": "Python 3",
   "language": "python",
   "name": "python3"
  },
  "language_info": {
   "codemirror_mode": {
    "name": "ipython",
    "version": 3
   },
   "file_extension": ".py",
   "mimetype": "text/x-python",
   "name": "python",
   "nbconvert_exporter": "python",
   "pygments_lexer": "ipython3",
   "version": "3.10.9"
  },
  "orig_nbformat": 4,
  "vscode": {
   "interpreter": {
    "hash": "a878954424d9b76d7b900ecc7f51cd84490d8f0a25cc155ddb1ef325dda2b223"
   }
  }
 },
 "nbformat": 4,
 "nbformat_minor": 2
}
